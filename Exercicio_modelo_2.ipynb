{
  "nbformat": 4,
  "nbformat_minor": 0,
  "metadata": {
    "colab": {
      "provenance": [],
      "include_colab_link": true
    },
    "kernelspec": {
      "name": "python3",
      "display_name": "Python 3"
    }
  },
  "cells": [
    {
      "cell_type": "markdown",
      "metadata": {
        "id": "view-in-github",
        "colab_type": "text"
      },
      "source": [
        "<a href=\"https://colab.research.google.com/github/FernandaSantos225/FernandaSantos225/blob/main/Exercicio_modelo_2.ipynb\" target=\"_parent\"><img src=\"https://colab.research.google.com/assets/colab-badge.svg\" alt=\"Open In Colab\"/></a>"
      ]
    },
    {
      "cell_type": "markdown",
      "metadata": {
        "id": "muD1vxozykSC"
      },
      "source": [
        "## 1\\. Listas"
      ]
    },
    {
      "cell_type": "markdown",
      "metadata": {
        "id": "ahrFfCuBxJKs"
      },
      "source": [
        "Criei uma lista chamada `filmes` com o nome dos 10 primeiros filmes mais bem avaliados no site no [IMDB](https://www.imdb.com/chart/top/). Imprima o resultado."
      ]
    },
    {
      "cell_type": "code",
      "metadata": {
        "id": "OgL6Hv3bzOHI",
        "colab": {
          "base_uri": "https://localhost:8080/"
        },
        "outputId": "c7e9eb61-4c67-49cc-ae8e-7eb8e9fea574"
      },
      "source": [
        "filmes = ['Um Sonho de Liberdade','O Poderoso Chefão','Batman - O Cavaleiro das Trevas','O Poderoso Chefão II','12 Homens e uma Sentença','A Lista de Schindler','O Senhor dos Anéis: O Retorno do Rei','Pulp Fiction - Tempo de Violência','O Senhor dos Anéis: A Sociedade do Anel','Três Homens em Conflito']\n",
        "print(filmes)"
      ],
      "execution_count": 15,
      "outputs": [
        {
          "output_type": "stream",
          "name": "stdout",
          "text": [
            "['Um Sonho de Liberdade', 'O Poderoso Chefão', 'Batman - O Cavaleiro das Trevas', 'O Poderoso Chefão II', '12 Homens e uma Sentença', 'A Lista de Schindler', 'O Senhor dos Anéis: O Retorno do Rei', 'Pulp Fiction - Tempo de Violência', 'O Senhor dos Anéis: A Sociedade do Anel', 'Três Homens em Conflito']\n"
          ]
        }
      ]
    },
    {
      "cell_type": "markdown",
      "metadata": {
        "id": "KI9zQRT2xa7m"
      },
      "source": [
        "Simule a movimentação do *ranking*. Utilize os métodos `insert` e `pop` para trocar a posição do primeiro e do segundo filme da lista. Imprima o resultado.\n",
        "\n"
      ]
    },
    {
      "cell_type": "code",
      "source": [
        "primeiro_filme = filmes.pop(0)\n",
        "segundo_filme = filmes.pop(0)\n",
        "\n",
        "filmes.insert(0, primeiro_filme)\n",
        "filmes.insert(1, segundo_filme)\n",
        "\n",
        "print(filmes)"
      ],
      "metadata": {
        "colab": {
          "base_uri": "https://localhost:8080/"
        },
        "id": "sZUXrTGvIftb",
        "outputId": "ee1f2227-6645-4930-943b-d7a7d43174ed"
      },
      "execution_count": 8,
      "outputs": [
        {
          "output_type": "stream",
          "name": "stdout",
          "text": [
            "['Um Sonho de Liberdade', 'O Poderoso Chefão', 'Batman - O Cavaleiro das Trevas', 'O Poderoso Chefão II', '12 Homens e uma Sentença', 'A Lista de Schindler', 'O Senhor dos Anéis: O Retorno do Rei', 'Pulp Fiction - Tempo de Violência', 'O Senhor dos Anéis: A Sociedade do Anel', 'Três Homens em Conflito']\n"
          ]
        }
      ]
    },
    {
      "cell_type": "markdown",
      "metadata": {
        "id": "lxa5L6uF0ZJE"
      },
      "source": [
        "## 2\\. Conjuntos"
      ]
    },
    {
      "cell_type": "markdown",
      "metadata": {
        "id": "9JahS2Kj0d5u"
      },
      "source": [
        "Aconteceu um erro no seu *ranking*. Simule a duplicação dos três últimos filmes da lista. Imprima o resultado."
      ]
    },
    {
      "cell_type": "code",
      "source": [
        "filmes = ['Um Sonho de Liberdade','O Poderoso Chefão','Batman - O Cavaleiro das Trevas','O Poderoso Chefão II','12 Homens e uma Sentença','A Lista de Schindler','A Lista de Schindler','O Senhor dos Anéis: O Retorno do Rei','Pulp Fiction - Tempo de Violência','O Senhor dos Anéis: A Sociedade do Anel','O Senhor dos Anéis: A Sociedade do Anel','Três Homens em Conflito','Três Homens em Conflito']\n",
        "print(filmes)"
      ],
      "metadata": {
        "colab": {
          "base_uri": "https://localhost:8080/"
        },
        "id": "y0O2PrRa1aOY",
        "outputId": "c383282c-9aaf-46e4-8f1d-9b1beff05578"
      },
      "execution_count": 16,
      "outputs": [
        {
          "output_type": "stream",
          "name": "stdout",
          "text": [
            "['Um Sonho de Liberdade', 'O Poderoso Chefão', 'Batman - O Cavaleiro das Trevas', 'O Poderoso Chefão II', '12 Homens e uma Sentença', 'A Lista de Schindler', 'A Lista de Schindler', 'O Senhor dos Anéis: O Retorno do Rei', 'Pulp Fiction - Tempo de Violência', 'O Senhor dos Anéis: A Sociedade do Anel', 'O Senhor dos Anéis: A Sociedade do Anel', 'Três Homens em Conflito', 'Três Homens em Conflito']\n"
          ]
        }
      ]
    },
    {
      "cell_type": "markdown",
      "metadata": {
        "id": "suxTfCJB6ZiX"
      },
      "source": [
        "Utiliza a conversão `set` e `list` para remover os valores duplicados. Imprima o resultado."
      ]
    },
    {
      "cell_type": "code",
      "metadata": {
        "id": "BnjnLBNC6PGe",
        "colab": {
          "base_uri": "https://localhost:8080/"
        },
        "outputId": "904d92bf-a803-48c1-e92c-1bd49640b4ee"
      },
      "source": [
        "filmes = ['Um Sonho de Liberdade','O Poderoso Chefão','Batman - O Cavaleiro das Trevas','O Poderoso Chefão II','12 Homens e uma Sentença','A Lista de Schindler','O Senhor dos Anéis: O Retorno do Rei','Pulp Fiction - Tempo de Violência','O Senhor dos Anéis: A Sociedade do Anel','Três Homens em Conflito']\n",
        "filmes_sem_duplicidade = list(set(filmes))\n",
        "print(filmes_sem_duplicidade)"
      ],
      "execution_count": 9,
      "outputs": [
        {
          "output_type": "stream",
          "name": "stdout",
          "text": [
            "['A Lista de Schindler', 'Um Sonho de Liberdade', 'O Poderoso Chefão', '12 Homens e uma Sentença', 'O Senhor dos Anéis: O Retorno do Rei', 'Três Homens em Conflito', 'Pulp Fiction - Tempo de Violência', 'O Senhor dos Anéis: A Sociedade do Anel', 'Batman - O Cavaleiro das Trevas', 'O Poderoso Chefão II']\n"
          ]
        }
      ]
    },
    {
      "cell_type": "markdown",
      "metadata": {
        "id": "EL_FzmxL6rTv"
      },
      "source": [
        "## 3\\. Dicionários"
      ]
    },
    {
      "cell_type": "markdown",
      "metadata": {
        "id": "i8l0gFqRCpfT"
      },
      "source": [
        "Repita os exercícios da parte 1 (listas). Os elementos da lista `filmes` devem ser dicionários no seguinte formato: `{'nome': <nome-do-filme>, 'ano': <ano do filme>, 'sinopse': <sinopse do filme>}`."
      ]
    },
    {
      "cell_type": "code",
      "source": [
        "filmes = [\n",
        "    {'nome': 'Um Sonho de Liberdade', 'ano': 1994, 'sinopse': 'Dois homens encontram a amizade e a esperança em uma prisão.'},\n",
        "    {'nome': 'O Poderoso Chefão', 'ano': 1972, 'sinopse': 'A história da família Corleone, uma poderosa família da máfia italiana.'},\n",
        "    {'nome': 'Batman - O Cavaleiro das Trevas', 'ano': 2008, 'sinopse': 'Batman enfrenta o Coringa, um criminoso psicopata que quer destruir Gotham City.'},\n",
        "    {'nome': 'O Poderoso Chefão II', 'ano': 1974, 'sinopse': 'A continuação da história da família Corleone.'},\n",
        "    {'nome': '12 Homens e uma Sentença', 'ano': 1957, 'sinopse': 'Um júri de 12 homens precisa decidir se um jovem é culpado de assassinato.'},\n",
        "    {'nome': 'A Lista de Schindler', 'ano': 1993, 'sinopse': 'Um homem de negócios alemão salva a vida de mais de mil judeus durante a Segunda Guerra Mundial.'},\n",
        "    {'nome': 'O Senhor dos Anéis: O Retorno do Rei', 'ano': 2003, 'sinopse': 'A conclusão da trilogia O Senhor dos Anéis.'},\n",
        "    {'nome': 'Pulp Fiction - Tempo de Violência', 'ano': 1994, 'sinopse': 'Várias histórias de crime se entrelaçam em Los Angeles.'},\n",
        "    {'nome': 'O Senhor dos Anéis: A Sociedade do Anel', 'ano': 2001, 'sinopse': 'O início da trilogia O Senhor dos Anéis.'},\n",
        "    {'nome': 'Três Homens em Conflito', 'ano': 1966, 'sinopse': 'Três pistoleiros são contratados para matar um homem.'},\n",
        "]\n",
        "print(filmes)"
      ],
      "metadata": {
        "colab": {
          "base_uri": "https://localhost:8080/"
        },
        "id": "p3_KX86yWrRH",
        "outputId": "9e0dc03b-6d81-42fb-b343-68ab4cfc1de3"
      },
      "execution_count": 2,
      "outputs": [
        {
          "output_type": "stream",
          "name": "stdout",
          "text": [
            "[{'nome': 'Um Sonho de Liberdade', 'ano': 1994, 'sinopse': 'Dois homens encontram a amizade e a esperança em uma prisão.'}, {'nome': 'O Poderoso Chefão', 'ano': 1972, 'sinopse': 'A história da família Corleone, uma poderosa família da máfia italiana.'}, {'nome': 'Batman - O Cavaleiro das Trevas', 'ano': 2008, 'sinopse': 'Batman enfrenta o Coringa, um criminoso psicopata que quer destruir Gotham City.'}, {'nome': 'O Poderoso Chefão II', 'ano': 1974, 'sinopse': 'A continuação da história da família Corleone.'}, {'nome': '12 Homens e uma Sentença', 'ano': 1957, 'sinopse': 'Um júri de 12 homens precisa decidir se um jovem é culpado de assassinato.'}, {'nome': 'A Lista de Schindler', 'ano': 1993, 'sinopse': 'Um homem de negócios alemão salva a vida de mais de mil judeus durante a Segunda Guerra Mundial.'}, {'nome': 'O Senhor dos Anéis: O Retorno do Rei', 'ano': 2003, 'sinopse': 'A conclusão da trilogia O Senhor dos Anéis.'}, {'nome': 'Pulp Fiction - Tempo de Violência', 'ano': 1994, 'sinopse': 'Várias histórias de crime se entrelaçam em Los Angeles.'}, {'nome': 'O Senhor dos Anéis: A Sociedade do Anel', 'ano': 2001, 'sinopse': 'O início da trilogia O Senhor dos Anéis.'}, {'nome': 'Três Homens em Conflito', 'ano': 1966, 'sinopse': 'Três pistoleiros são contratados para matar um homem.'}]\n"
          ]
        }
      ]
    }
  ]
}